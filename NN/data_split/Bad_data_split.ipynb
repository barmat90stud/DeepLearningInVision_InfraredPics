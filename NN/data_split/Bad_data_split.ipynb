{
 "cells": [
  {
   "cell_type": "markdown",
   "id": "e742f902",
   "metadata": {},
   "source": [
    "## Import libraries"
   ]
  },
  {
   "cell_type": "code",
   "execution_count": 137,
   "id": "a5096b2a",
   "metadata": {},
   "outputs": [],
   "source": [
    "import os\n",
    "import numpy as np\n",
    "\n",
    "import tensorflow as tf\n",
    "from tensorflow.keras.models import Sequential\n",
    "from tensorflow.keras.layers import Dense, Conv2D, Flatten, Dropout, MaxPooling2D\n",
    "from tensorflow.keras.preprocessing.image import ImageDataGenerator\n",
    "\n",
    "import glob\n",
    "import shutil\n",
    "import cv2\n",
    "\n",
    "import PIL\n",
    "from PIL import Image\n",
    "\n",
    "import matplotlib.pyplot as plt\n",
    "from matplotlib import image\n",
    "from matplotlib.pyplot import imread\n",
    "from matplotlib import image\n",
    "import matplotlib.image as mpimg"
   ]
  },
  {
   "cell_type": "markdown",
   "id": "11e56101",
   "metadata": {},
   "source": [
    "##  Set up the path\n",
    "\n",
    "Directory to USB-Stick"
   ]
  },
  {
   "cell_type": "code",
   "execution_count": 59,
   "id": "17761c4d",
   "metadata": {},
   "outputs": [],
   "source": [
    "directory_dataset = \"F:\\classi_irima\\data\\_Datenaustausch_ENGIE\\Images\\Dataset\\Basic_CNNs\\original_dataset\"\n",
    "base_dir = os.path.join(directory_dataset)"
   ]
  },
  {
   "cell_type": "code",
   "execution_count": 60,
   "id": "8e413df2",
   "metadata": {},
   "outputs": [
    {
     "name": "stdout",
     "output_type": "stream",
     "text": [
      "F:\\classi_irima\\data\\_Datenaustausch_ENGIE\\Images\\Dataset\\Basic_CNNs\\original_dataset\n"
     ]
    }
   ],
   "source": [
    "print(base_dir)"
   ]
  },
  {
   "cell_type": "markdown",
   "id": "23c5d675",
   "metadata": {},
   "source": [
    "## Set up classes"
   ]
  },
  {
   "cell_type": "code",
   "execution_count": 65,
   "id": "034eed67",
   "metadata": {},
   "outputs": [],
   "source": [
    "classes = [\"Defect\", \"No Defect\"]"
   ]
  },
  {
   "cell_type": "markdown",
   "id": "cb9be6fa",
   "metadata": {},
   "source": [
    "## Set up train, validation and test dataset\n",
    "\n",
    "* PNG uses a lossless algorithm that keeps all the information. With PNG, the quality of the image will not change, but the size of the file will usually be larger\n",
    "\n",
    "*  /* starts a regular multi-line comment"
   ]
  },
  {
   "cell_type": "code",
   "execution_count": 66,
   "id": "5021a89d",
   "metadata": {},
   "outputs": [
    {
     "name": "stdout",
     "output_type": "stream",
     "text": [
      "Defect: 0 Images\n",
      "No Defect: 1840 Images\n"
     ]
    }
   ],
   "source": [
    "for cl in classes:\n",
    "    img_path = os.path.join(base_dir, cl)\n",
    "    images = glob.glob(img_path + \"/*.png\")\n",
    "    print(\"{}: {} Images\".format(cl, len(images)))\n",
    "    num_train = int(round(len(images)*0.8))\n",
    "    train = images[:num_train]\n",
    "    remain = images[num_train:]\n",
    "    num_val = int(round(len(images)*0.1))\n",
    "    val = images[num_train:num_train+num_val]\n",
    "    test = images[num_train+num_val:]\n",
    "    \n",
    "    for t in train:\n",
    "        if not os.path.exists(os.path.join(base_dir, \"train\", cl)):\n",
    "            os.makedirs(os.path.join(base_dir, \"train\", cl))\n",
    "        shutil.move(t, os.path.join(base_dir, \"train\", cl))\n",
    "    \n",
    "    for v in val:\n",
    "        if not os.path.exists(os.path.join(base_dir, \"val\", cl)):\n",
    "            os.makedirs(os.path.join(base_dir, \"val\", cl))\n",
    "        shutil.move(v, os.path.join(base_dir, \"val\", cl))\n",
    "        \n",
    "    for te in test:\n",
    "        if not os.path.exists(os.path.join(base_dir, \"test\", cl)):\n",
    "            os.makedirs(os.path.join(base_dir, \"test\", cl))\n",
    "        shutil.move(te, os.path.join(base_dir, \"test\", cl))"
   ]
  },
  {
   "cell_type": "code",
   "execution_count": 67,
   "id": "544a777d",
   "metadata": {},
   "outputs": [],
   "source": [
    "train_dir = os.path.join(base_dir, \"train\")\n",
    "val_dir = os.path.join(base_dir, \"val\")\n",
    "test_dir = os.path.join(base_dir, \"test\")"
   ]
  },
  {
   "cell_type": "code",
   "execution_count": 95,
   "id": "755743e5",
   "metadata": {},
   "outputs": [
    {
     "name": "stdout",
     "output_type": "stream",
     "text": [
      "F:\\classi_irima\\data\\_Datenaustausch_ENGIE\\Images\\Dataset\\Basic_CNNs\\original_dataset\\train\n"
     ]
    }
   ],
   "source": [
    "print(train_dir)"
   ]
  }
 ],
 "metadata": {
  "kernelspec": {
   "display_name": "DeepLearninginVision",
   "language": "python",
   "name": "deeplearninginvision"
  },
  "language_info": {
   "codemirror_mode": {
    "name": "ipython",
    "version": 3
   },
   "file_extension": ".py",
   "mimetype": "text/x-python",
   "name": "python",
   "nbconvert_exporter": "python",
   "pygments_lexer": "ipython3",
   "version": "3.9.1"
  },
  "latex_envs": {
   "LaTeX_envs_menu_present": true,
   "autoclose": false,
   "autocomplete": true,
   "bibliofile": "biblio.bib",
   "cite_by": "apalike",
   "current_citInitial": 1,
   "eqLabelWithNumbers": true,
   "eqNumInitial": 1,
   "hotkeys": {
    "equation": "Ctrl-E",
    "itemize": "Ctrl-I"
   },
   "labels_anchors": false,
   "latex_user_defs": false,
   "report_style_numbering": false,
   "user_envs_cfg": false
  },
  "toc": {
   "base_numbering": 1,
   "nav_menu": {},
   "number_sections": true,
   "sideBar": true,
   "skip_h1_title": false,
   "title_cell": "Table of Contents",
   "title_sidebar": "Contents",
   "toc_cell": false,
   "toc_position": {},
   "toc_section_display": true,
   "toc_window_display": false
  }
 },
 "nbformat": 4,
 "nbformat_minor": 5
}
